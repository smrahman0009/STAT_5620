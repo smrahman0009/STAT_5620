{
 "cells": [
  {
   "cell_type": "markdown",
   "metadata": {
    "_cell_guid": "b1076dfc-b9ad-4769-8c92-a6c4dae69d19",
    "_uuid": "8f2839f25d086af736a60e9eeb907d3b93b6e0e5"
   },
   "source": [
    "# Late Delivery Predictions "
   ]
  },
  {
   "cell_type": "markdown",
   "metadata": {},
   "source": [
    "## OBJECTIVES\n"
   ]
  },
  {
   "cell_type": "markdown",
   "metadata": {},
   "source": [
    "## Import all the required libraries"
   ]
  },
  {
   "cell_type": "code",
   "execution_count": 12,
   "metadata": {
    "execution": {
     "iopub.execute_input": "2022-04-17T15:53:46.452231Z",
     "iopub.status.busy": "2022-04-17T15:53:46.451394Z",
     "iopub.status.idle": "2022-04-17T15:53:46.460151Z",
     "shell.execute_reply": "2022-04-17T15:53:46.459198Z",
     "shell.execute_reply.started": "2022-04-17T15:53:46.452187Z"
    }
   },
   "outputs": [
    {
     "ename": "ImportError",
     "evalue": "cannot import name 'DistanceMetric' from 'sklearn.metrics' (C:\\Users\\smrah\\anaconda3\\lib\\site-packages\\sklearn\\metrics\\__init__.py)",
     "output_type": "error",
     "traceback": [
      "\u001b[1;31m---------------------------------------------------------------------------\u001b[0m",
      "\u001b[1;31mImportError\u001b[0m                               Traceback (most recent call last)",
      "\u001b[1;32m~\\AppData\\Local\\Temp/ipykernel_11120/40768308.py\u001b[0m in \u001b[0;36m<module>\u001b[1;34m\u001b[0m\n\u001b[0;32m      6\u001b[0m \u001b[1;32mimport\u001b[0m \u001b[0mseaborn\u001b[0m \u001b[1;32mas\u001b[0m \u001b[0msns\u001b[0m\u001b[1;33m\u001b[0m\u001b[1;33m\u001b[0m\u001b[0m\n\u001b[0;32m      7\u001b[0m \u001b[1;32mfrom\u001b[0m \u001b[0mcollections\u001b[0m \u001b[1;32mimport\u001b[0m \u001b[0mCounter\u001b[0m\u001b[1;33m\u001b[0m\u001b[1;33m\u001b[0m\u001b[0m\n\u001b[1;32m----> 8\u001b[1;33m \u001b[1;32mimport\u001b[0m \u001b[0mimblearn\u001b[0m\u001b[1;33m\u001b[0m\u001b[1;33m\u001b[0m\u001b[0m\n\u001b[0m\u001b[0;32m      9\u001b[0m \u001b[1;32mimport\u001b[0m \u001b[0mmatplotlib\u001b[0m\u001b[1;33m.\u001b[0m\u001b[0mpyplot\u001b[0m \u001b[1;32mas\u001b[0m \u001b[0mplt\u001b[0m\u001b[1;33m\u001b[0m\u001b[1;33m\u001b[0m\u001b[0m\n\u001b[0;32m     10\u001b[0m \u001b[0mplt\u001b[0m\u001b[1;33m.\u001b[0m\u001b[0mstyle\u001b[0m\u001b[1;33m.\u001b[0m\u001b[0muse\u001b[0m\u001b[1;33m(\u001b[0m\u001b[1;34m'ggplot'\u001b[0m\u001b[1;33m)\u001b[0m\u001b[1;33m\u001b[0m\u001b[1;33m\u001b[0m\u001b[0m\n",
      "\u001b[1;32m~\\anaconda3\\lib\\site-packages\\imblearn\\__init__.py\u001b[0m in \u001b[0;36m<module>\u001b[1;34m\u001b[0m\n\u001b[0;32m     35\u001b[0m \u001b[1;32mimport\u001b[0m \u001b[0mtypes\u001b[0m\u001b[1;33m\u001b[0m\u001b[1;33m\u001b[0m\u001b[0m\n\u001b[0;32m     36\u001b[0m \u001b[1;33m\u001b[0m\u001b[0m\n\u001b[1;32m---> 37\u001b[1;33m \u001b[1;32mfrom\u001b[0m \u001b[1;33m.\u001b[0m \u001b[1;32mimport\u001b[0m \u001b[0mcombine\u001b[0m\u001b[1;33m\u001b[0m\u001b[1;33m\u001b[0m\u001b[0m\n\u001b[0m\u001b[0;32m     38\u001b[0m \u001b[1;32mfrom\u001b[0m \u001b[1;33m.\u001b[0m \u001b[1;32mimport\u001b[0m \u001b[0mensemble\u001b[0m\u001b[1;33m\u001b[0m\u001b[1;33m\u001b[0m\u001b[0m\n\u001b[0;32m     39\u001b[0m \u001b[1;32mfrom\u001b[0m \u001b[1;33m.\u001b[0m \u001b[1;32mimport\u001b[0m \u001b[0mexceptions\u001b[0m\u001b[1;33m\u001b[0m\u001b[1;33m\u001b[0m\u001b[0m\n",
      "\u001b[1;32m~\\anaconda3\\lib\\site-packages\\imblearn\\combine\\__init__.py\u001b[0m in \u001b[0;36m<module>\u001b[1;34m\u001b[0m\n\u001b[0;32m      3\u001b[0m \"\"\"\n\u001b[0;32m      4\u001b[0m \u001b[1;33m\u001b[0m\u001b[0m\n\u001b[1;32m----> 5\u001b[1;33m \u001b[1;32mfrom\u001b[0m \u001b[1;33m.\u001b[0m\u001b[0m_smote_enn\u001b[0m \u001b[1;32mimport\u001b[0m \u001b[0mSMOTEENN\u001b[0m\u001b[1;33m\u001b[0m\u001b[1;33m\u001b[0m\u001b[0m\n\u001b[0m\u001b[0;32m      6\u001b[0m \u001b[1;32mfrom\u001b[0m \u001b[1;33m.\u001b[0m\u001b[0m_smote_tomek\u001b[0m \u001b[1;32mimport\u001b[0m \u001b[0mSMOTETomek\u001b[0m\u001b[1;33m\u001b[0m\u001b[1;33m\u001b[0m\u001b[0m\n\u001b[0;32m      7\u001b[0m \u001b[1;33m\u001b[0m\u001b[0m\n",
      "\u001b[1;32m~\\anaconda3\\lib\\site-packages\\imblearn\\combine\\_smote_enn.py\u001b[0m in \u001b[0;36m<module>\u001b[1;34m\u001b[0m\n\u001b[0;32m      8\u001b[0m \u001b[1;32mfrom\u001b[0m \u001b[0msklearn\u001b[0m\u001b[1;33m.\u001b[0m\u001b[0mutils\u001b[0m \u001b[1;32mimport\u001b[0m \u001b[0mcheck_X_y\u001b[0m\u001b[1;33m\u001b[0m\u001b[1;33m\u001b[0m\u001b[0m\n\u001b[0;32m      9\u001b[0m \u001b[1;33m\u001b[0m\u001b[0m\n\u001b[1;32m---> 10\u001b[1;33m \u001b[1;32mfrom\u001b[0m \u001b[1;33m.\u001b[0m\u001b[1;33m.\u001b[0m\u001b[0mbase\u001b[0m \u001b[1;32mimport\u001b[0m \u001b[0mBaseSampler\u001b[0m\u001b[1;33m\u001b[0m\u001b[1;33m\u001b[0m\u001b[0m\n\u001b[0m\u001b[0;32m     11\u001b[0m \u001b[1;32mfrom\u001b[0m \u001b[1;33m.\u001b[0m\u001b[1;33m.\u001b[0m\u001b[0mover_sampling\u001b[0m \u001b[1;32mimport\u001b[0m \u001b[0mSMOTE\u001b[0m\u001b[1;33m\u001b[0m\u001b[1;33m\u001b[0m\u001b[0m\n\u001b[0;32m     12\u001b[0m \u001b[1;32mfrom\u001b[0m \u001b[1;33m.\u001b[0m\u001b[1;33m.\u001b[0m\u001b[0mover_sampling\u001b[0m\u001b[1;33m.\u001b[0m\u001b[0mbase\u001b[0m \u001b[1;32mimport\u001b[0m \u001b[0mBaseOverSampler\u001b[0m\u001b[1;33m\u001b[0m\u001b[1;33m\u001b[0m\u001b[0m\n",
      "\u001b[1;32m~\\anaconda3\\lib\\site-packages\\imblearn\\base.py\u001b[0m in \u001b[0;36m<module>\u001b[1;34m\u001b[0m\n\u001b[0;32m     13\u001b[0m \u001b[1;32mfrom\u001b[0m \u001b[0msklearn\u001b[0m\u001b[1;33m.\u001b[0m\u001b[0mutils\u001b[0m\u001b[1;33m.\u001b[0m\u001b[0mmulticlass\u001b[0m \u001b[1;32mimport\u001b[0m \u001b[0mcheck_classification_targets\u001b[0m\u001b[1;33m\u001b[0m\u001b[1;33m\u001b[0m\u001b[0m\n\u001b[0;32m     14\u001b[0m \u001b[1;33m\u001b[0m\u001b[0m\n\u001b[1;32m---> 15\u001b[1;33m \u001b[1;32mfrom\u001b[0m \u001b[1;33m.\u001b[0m\u001b[0mutils\u001b[0m \u001b[1;32mimport\u001b[0m \u001b[0mcheck_sampling_strategy\u001b[0m\u001b[1;33m,\u001b[0m \u001b[0mcheck_target_type\u001b[0m\u001b[1;33m\u001b[0m\u001b[1;33m\u001b[0m\u001b[0m\n\u001b[0m\u001b[0;32m     16\u001b[0m \u001b[1;32mfrom\u001b[0m \u001b[1;33m.\u001b[0m\u001b[0mutils\u001b[0m\u001b[1;33m.\u001b[0m\u001b[0m_validation\u001b[0m \u001b[1;32mimport\u001b[0m \u001b[0mArraysTransformer\u001b[0m\u001b[1;33m\u001b[0m\u001b[1;33m\u001b[0m\u001b[0m\n\u001b[0;32m     17\u001b[0m \u001b[1;32mfrom\u001b[0m \u001b[1;33m.\u001b[0m\u001b[0mutils\u001b[0m\u001b[1;33m.\u001b[0m\u001b[0m_validation\u001b[0m \u001b[1;32mimport\u001b[0m \u001b[0m_deprecate_positional_args\u001b[0m\u001b[1;33m\u001b[0m\u001b[1;33m\u001b[0m\u001b[0m\n",
      "\u001b[1;32m~\\anaconda3\\lib\\site-packages\\imblearn\\utils\\__init__.py\u001b[0m in \u001b[0;36m<module>\u001b[1;34m\u001b[0m\n\u001b[0;32m      5\u001b[0m \u001b[1;32mfrom\u001b[0m \u001b[1;33m.\u001b[0m\u001b[0m_docstring\u001b[0m \u001b[1;32mimport\u001b[0m \u001b[0mSubstitution\u001b[0m\u001b[1;33m\u001b[0m\u001b[1;33m\u001b[0m\u001b[0m\n\u001b[0;32m      6\u001b[0m \u001b[1;33m\u001b[0m\u001b[0m\n\u001b[1;32m----> 7\u001b[1;33m \u001b[1;32mfrom\u001b[0m \u001b[1;33m.\u001b[0m\u001b[0m_validation\u001b[0m \u001b[1;32mimport\u001b[0m \u001b[0mcheck_neighbors_object\u001b[0m\u001b[1;33m\u001b[0m\u001b[1;33m\u001b[0m\u001b[0m\n\u001b[0m\u001b[0;32m      8\u001b[0m \u001b[1;32mfrom\u001b[0m \u001b[1;33m.\u001b[0m\u001b[0m_validation\u001b[0m \u001b[1;32mimport\u001b[0m \u001b[0mcheck_target_type\u001b[0m\u001b[1;33m\u001b[0m\u001b[1;33m\u001b[0m\u001b[0m\n\u001b[0;32m      9\u001b[0m \u001b[1;32mfrom\u001b[0m \u001b[1;33m.\u001b[0m\u001b[0m_validation\u001b[0m \u001b[1;32mimport\u001b[0m \u001b[0mcheck_sampling_strategy\u001b[0m\u001b[1;33m\u001b[0m\u001b[1;33m\u001b[0m\u001b[0m\n",
      "\u001b[1;32m~\\anaconda3\\lib\\site-packages\\imblearn\\utils\\_validation.py\u001b[0m in \u001b[0;36m<module>\u001b[1;34m\u001b[0m\n\u001b[0;32m     13\u001b[0m \u001b[1;33m\u001b[0m\u001b[0m\n\u001b[0;32m     14\u001b[0m \u001b[1;32mfrom\u001b[0m \u001b[0msklearn\u001b[0m\u001b[1;33m.\u001b[0m\u001b[0mbase\u001b[0m \u001b[1;32mimport\u001b[0m \u001b[0mclone\u001b[0m\u001b[1;33m\u001b[0m\u001b[1;33m\u001b[0m\u001b[0m\n\u001b[1;32m---> 15\u001b[1;33m \u001b[1;32mfrom\u001b[0m \u001b[0msklearn\u001b[0m\u001b[1;33m.\u001b[0m\u001b[0mneighbors\u001b[0m\u001b[1;33m.\u001b[0m\u001b[0m_base\u001b[0m \u001b[1;32mimport\u001b[0m \u001b[0mKNeighborsMixin\u001b[0m\u001b[1;33m\u001b[0m\u001b[1;33m\u001b[0m\u001b[0m\n\u001b[0m\u001b[0;32m     16\u001b[0m \u001b[1;32mfrom\u001b[0m \u001b[0msklearn\u001b[0m\u001b[1;33m.\u001b[0m\u001b[0mneighbors\u001b[0m \u001b[1;32mimport\u001b[0m \u001b[0mNearestNeighbors\u001b[0m\u001b[1;33m\u001b[0m\u001b[1;33m\u001b[0m\u001b[0m\n\u001b[0;32m     17\u001b[0m \u001b[1;32mfrom\u001b[0m \u001b[0msklearn\u001b[0m\u001b[1;33m.\u001b[0m\u001b[0mutils\u001b[0m \u001b[1;32mimport\u001b[0m \u001b[0mcolumn_or_1d\u001b[0m\u001b[1;33m\u001b[0m\u001b[1;33m\u001b[0m\u001b[0m\n",
      "\u001b[1;32m~\\anaconda3\\lib\\site-packages\\sklearn\\neighbors\\__init__.py\u001b[0m in \u001b[0;36m<module>\u001b[1;34m\u001b[0m\n\u001b[0;32m      6\u001b[0m \u001b[1;32mfrom\u001b[0m \u001b[1;33m.\u001b[0m\u001b[0m_ball_tree\u001b[0m \u001b[1;32mimport\u001b[0m \u001b[0mBallTree\u001b[0m\u001b[1;33m\u001b[0m\u001b[1;33m\u001b[0m\u001b[0m\n\u001b[0;32m      7\u001b[0m \u001b[1;32mfrom\u001b[0m \u001b[1;33m.\u001b[0m\u001b[0m_kd_tree\u001b[0m \u001b[1;32mimport\u001b[0m \u001b[0mKDTree\u001b[0m\u001b[1;33m\u001b[0m\u001b[1;33m\u001b[0m\u001b[0m\n\u001b[1;32m----> 8\u001b[1;33m \u001b[1;32mfrom\u001b[0m \u001b[1;33m.\u001b[0m\u001b[0m_distance_metric\u001b[0m \u001b[1;32mimport\u001b[0m \u001b[0mDistanceMetric\u001b[0m\u001b[1;33m\u001b[0m\u001b[1;33m\u001b[0m\u001b[0m\n\u001b[0m\u001b[0;32m      9\u001b[0m \u001b[1;32mfrom\u001b[0m \u001b[1;33m.\u001b[0m\u001b[0m_graph\u001b[0m \u001b[1;32mimport\u001b[0m \u001b[0mkneighbors_graph\u001b[0m\u001b[1;33m,\u001b[0m \u001b[0mradius_neighbors_graph\u001b[0m\u001b[1;33m\u001b[0m\u001b[1;33m\u001b[0m\u001b[0m\n\u001b[0;32m     10\u001b[0m \u001b[1;32mfrom\u001b[0m \u001b[1;33m.\u001b[0m\u001b[0m_graph\u001b[0m \u001b[1;32mimport\u001b[0m \u001b[0mKNeighborsTransformer\u001b[0m\u001b[1;33m,\u001b[0m \u001b[0mRadiusNeighborsTransformer\u001b[0m\u001b[1;33m\u001b[0m\u001b[1;33m\u001b[0m\u001b[0m\n",
      "\u001b[1;32m~\\anaconda3\\lib\\site-packages\\sklearn\\neighbors\\_distance_metric.py\u001b[0m in \u001b[0;36m<module>\u001b[1;34m\u001b[0m\n\u001b[0;32m      2\u001b[0m \u001b[1;32mimport\u001b[0m \u001b[0mwarnings\u001b[0m\u001b[1;33m\u001b[0m\u001b[1;33m\u001b[0m\u001b[0m\n\u001b[0;32m      3\u001b[0m \u001b[1;33m\u001b[0m\u001b[0m\n\u001b[1;32m----> 4\u001b[1;33m \u001b[1;32mfrom\u001b[0m \u001b[1;33m.\u001b[0m\u001b[1;33m.\u001b[0m\u001b[0mmetrics\u001b[0m \u001b[1;32mimport\u001b[0m \u001b[0mDistanceMetric\u001b[0m \u001b[1;32mas\u001b[0m \u001b[0m_DistanceMetric\u001b[0m\u001b[1;33m\u001b[0m\u001b[1;33m\u001b[0m\u001b[0m\n\u001b[0m\u001b[0;32m      5\u001b[0m \u001b[1;33m\u001b[0m\u001b[0m\n\u001b[0;32m      6\u001b[0m \u001b[1;33m\u001b[0m\u001b[0m\n",
      "\u001b[1;31mImportError\u001b[0m: cannot import name 'DistanceMetric' from 'sklearn.metrics' (C:\\Users\\smrah\\anaconda3\\lib\\site-packages\\sklearn\\metrics\\__init__.py)"
     ]
    }
   ],
   "source": [
    "import numpy as np\n",
    "import pandas as pd\n",
    "import pickle\n",
    "from sklearn import preprocessing\n",
    "from sklearn import model_selection\n",
    "import seaborn as sns\n",
    "from collections import Counter\n",
    "import imblearn\n",
    "import matplotlib.pyplot as plt\n",
    "plt.style.use('ggplot')\n",
    "from sklearn.model_selection import train_test_split\n",
    "from sklearn.tree import DecisionTreeClassifier\n",
    "from sklearn.ensemble import RandomForestClassifier\n",
    "from sklearn.metrics import r2_score, mean_squared_error,mean_absolute_error, confusion_matrix\n",
    "from imblearn.under_sampling import NearMiss\n",
    "from category_encoders import LeaveOneOutEncoder\n",
    "import warnings\n",
    "warnings.filterwarnings(\"ignore\")"
   ]
  },
  {
   "cell_type": "code",
   "execution_count": null,
   "metadata": {},
   "outputs": [],
   "source": [
    "\n",
    "pip uninstall -v scikit-learn"
   ]
  },
  {
   "cell_type": "markdown",
   "metadata": {},
   "source": [
    "## Import Dataset"
   ]
  },
  {
   "cell_type": "code",
   "execution_count": 53,
   "metadata": {
    "execution": {
     "iopub.execute_input": "2022-04-17T15:53:46.490167Z",
     "iopub.status.busy": "2022-04-17T15:53:46.489700Z",
     "iopub.status.idle": "2022-04-17T15:53:47.774020Z",
     "shell.execute_reply": "2022-04-17T15:53:47.773228Z",
     "shell.execute_reply.started": "2022-04-17T15:53:46.490109Z"
    }
   },
   "outputs": [],
   "source": [
    "customer_df = pd.read_csv('./db/olist_customers_dataset.csv',header= 0,encoding='unicode_escape')\n",
    "order_df = pd.read_csv('./db/olist_orders_dataset.csv',header= 0,encoding='unicode_escape')\n",
    "order_items_df = pd.read_csv('./db/olist_order_items_dataset.csv',header= 0,encoding='unicode_escape')\n",
    "products_df = pd.read_csv('./db/olist_products_dataset.csv',header= 0,encoding='unicode_escape')\n",
    "sellers_df = pd.read_csv('./db/olist_sellers_dataset.csv',header= 0,encoding='unicode_escape')\n",
    "order_payments_df = pd.read_csv('./db/olist_order_payments_dataset.csv',header= 0,encoding='unicode_escape')\n",
    "\n",
    "# geolocation_df = pd.read_csv('../input/brazilian-ecommerce/olist_geolocation_dataset.csv',header= 0,encoding='unicode_escape')\n",
    "pd.set_option('display.max_columns',None)\n"
   ]
  },
  {
   "cell_type": "markdown",
   "metadata": {},
   "source": [
    "## Key Functions\n",
    "#### Those are the key functions that I am going to use throughout my analysis"
   ]
  },
  {
   "cell_type": "code",
   "execution_count": 54,
   "metadata": {
    "execution": {
     "iopub.execute_input": "2022-04-17T15:53:47.776351Z",
     "iopub.status.busy": "2022-04-17T15:53:47.775992Z",
     "iopub.status.idle": "2022-04-17T15:53:47.816132Z",
     "shell.execute_reply": "2022-04-17T15:53:47.815284Z",
     "shell.execute_reply.started": "2022-04-17T15:53:47.776314Z"
    }
   },
   "outputs": [],
   "source": [
    "# This function provide basicInformations of the passing dataframe. \n",
    "def basicInfo(df):\n",
    "    print('Total data-points :',df.size)\n",
    "    print('Total features: ',df.shape[1])\n",
    "    numerical_features = [f for f in df.columns if df[f].dtypes!='O']\n",
    "    print('Total numerical features :',len(numerical_features))\n",
    "    cat_features = [c for c in df.columns if df[c].dtypes=='O']\n",
    "    print('Total categorical features :',len(cat_features))\n",
    "    print('Total rows: ',df.shape[0])\n",
    "    print(\"\\nFeature lists containing null values in percentage:\\n\")\n",
    "    for column in df.columns:\n",
    "        if df[column].isnull().sum() > 0:\n",
    "            print(column, ': {:.4%}'.format(df[column].isnull().sum() / df[column].shape[0]))\n",
    "\n",
    "# This function draw heatmap. \n",
    "def heatMap(df_heatmap):\n",
    "    ftr_corr = df_heatmap.corr()\n",
    "    top_corr=ftr_corr.index\n",
    "    plt.figure(figsize=(20,15))\n",
    "    g=sns.heatmap(df_heatmap[top_corr].corr(),annot=True)\n",
    "    df_heatmap.columns.tolist()\n",
    "\n",
    "# This function draw pieChart. \n",
    "def pieChart(feature_df,feature_title):\n",
    "    order_status_ = feature_df.value_counts()\n",
    "    order_status_label_ = order_status_.keys()\n",
    "    plt.figure(figsize=(10,10))\n",
    "    plt.pie(order_status_,labels=order_status_label_,autopct='%1.2f%%')\n",
    "    plt.legend(title=feature_title)\n",
    "    plt.show()\n",
    "    \n",
    "# This function return categorical features. \n",
    "def getCtgCols(df):\n",
    "    cols = df.columns.tolist()\n",
    "    num_cols = df._get_numeric_data().columns\n",
    "    return list(set(cols) - set(num_cols))\n",
    "\n",
    "# This functions returns numerical features\n",
    "def getNumCols(df):\n",
    "    return df._get_numeric_data().columns\n",
    "\n",
    "# This function will check Null rows of the dataframe. \n",
    "def chkNull(df):\n",
    "    is_null_exist_ = df.isnull().values.sum()\n",
    "    return is_null_exist_\n",
    "\n",
    "# This function is for Dropping Null Rows\n",
    "def dropNullRows(df):\n",
    "    df.dropna(axis=0,inplace=True)\n",
    "    \n",
    "# This function visualize features of the model. \n",
    "def chkFeatureImportance(model_rfc,ftr_to_use,ftr_title):\n",
    "    feature_importances = pd.DataFrame(model_rfc.feature_importances_,\n",
    "    index = ftr_to_use,\n",
    "    columns=[\"importance\"]).sort_values(\"importance\",\n",
    "    ascending=False)\n",
    "    num = min([50,len(ftr_to_use)])\n",
    "    ylocs = np.arange(num)\n",
    "    # get the feature importance for top num and sort in reverse order\n",
    "    values_to_plot = feature_importances.iloc[:num].values.ravel()[::-1]\n",
    "    feature_labels = list(feature_importances.iloc[:num].index)[::-1]\n",
    "    plt.figure(num=None, figsize=(6, 6), dpi=80, facecolor=\"w\", edgecolor=\"k\");\n",
    "    plt.barh(ylocs, values_to_plot, align = \"center\")\n",
    "    plt.ylabel(\"Features\")\n",
    "    plt.xlabel(\"Importance Score\")\n",
    "    plt.title(ftr_title)\n",
    "    plt.yticks(ylocs, feature_labels)\n",
    "    plt.show()\n",
    "    \n",
    "\n",
    "def boxPlot(df,y_label,title,y_lim_min,y_lim_max):\n",
    "    plt.figure(num=None, figsize=(6, 6), dpi=80, facecolor=\"w\", edgecolor=\"k\")\n",
    "    plt.boxplot(df)\n",
    "    plt.ylabel(y_label)\n",
    "    plt.title(title)\n",
    "    plt.ylim(y_lim_min,y_lim_max)\n",
    "    plt.show()\n",
    "    \n",
    "    \n",
    "# modelEva provides ....\n",
    "def modelEva(y_test,y_pred):\n",
    "    score =r2_score(y_test,y_pred)\n",
    "    ms_error =mean_squared_error(y_test,y_pred)\n",
    "    ma_error =mean_absolute_error(y_test,y_pred)\n",
    "    print(\"Mean Squared Error: \",\"{:.2f}%\".format(ms_error * 100))\n",
    "    print(\"Mean Absolute Error: \",\"{:.2f}%\".format(ma_error * 100))\n",
    "    print(\"Accuracy: \",\"{:.2f}%\".format(score * 100))\n",
    "\n",
    "# getConfusionMatrix\n",
    "def getConfusionMatrix(y_test,y_pred):\n",
    "    \n",
    "    cf_matrix = confusion_matrix(y_test,y_pred)\n",
    "    group_names = [\"True Neg\",\"False Pos\",\"False Neg\",\"True Pos\"]\n",
    "    group_counts = ['{0:0.0f}'.format(value) for value in\n",
    "                    cf_matrix.flatten()]\n",
    "    group_percentages = ['{0:.2%}'.format(value) for value in\n",
    "                         cf_matrix.flatten()/np.sum(cf_matrix)]\n",
    "    labels = [f'{v1}\\n{v2}\\n{v3}' for v1, v2, v3 in\n",
    "              zip(group_names,group_counts,group_percentages)]\n",
    "    labels = np.asarray(labels).reshape(2,2)\n",
    "    sns.heatmap(cf_matrix, annot=labels, fmt=\"\", cmap='Blues')\n",
    "    \n",
    "#Display column pairs with correlation=1\n",
    "def corrFtr(df,x):\n",
    "    c = df.corr().abs().round(2)\n",
    "    # Select upper triangle of correlation matrix\n",
    "    c = c.where(np.triu(np.ones(c.shape), k=1).astype(np.bool))\n",
    "    #find column pairs with correlation = 1\n",
    "    c = c.fillna(0)\n",
    "    c = c.loc[(c<x).any(axis=1)] #removing rows with all less than x correlations\n",
    "    c = c.loc[:, (c<x).any(axis=0)] #removing columns with all less than x correlations\n",
    "    #display(c)\n",
    "    display(c[c >= x].stack())\n",
    "    return c[c >= x].stack()\n",
    "\n",
    "def getCorFtr(df,cor_):\n",
    "    cor_matrix = df.corr().abs()\n",
    "    upper_tri = cor_matrix.where(np.triu(np.ones(cor_matrix.shape),k=1).astype(np.bool))\n",
    "    to_drop = [column for column in upper_tri.columns if any(upper_tri[column] > cor_)]\n",
    "    \n",
    "    return to_drop\n",
    "\n",
    "# dropFtr function drop features from dataframe\n",
    "def dropFtr(df,ftr_):\n",
    "    df.drop(ftr_,axis=1,inplace=True)\n",
    "    \n",
    "    \n",
    "#topLateFtr() returns top late_delivered categorical features. \n",
    "# def topLateDeliveredFtr(ctg_cols,n_largest,df = olist_df[(olist_df['late_delivery'] == 1)]):\n",
    "#     for ctg_col in ctg_cols:\n",
    "#         df[ctg_col].value_counts().nlargest(n_largest).sort_values(ascending=True).plot.barh(figsize=(10,4), title=\"Top \"+\"Late Delivered \"+ ctg_col)\n",
    "#         plt.figure()\n",
    "        \n",
    "\n",
    "def cmpBarChart(ftr_name):\n",
    "    \n",
    "    xyz1 = olist_df[(olist_df['late_delivery'] == 0)]\n",
    "    xyz2= olist_df[(olist_df['late_delivery'] == 1)]\n",
    "\n",
    "    count1=xyz1[ftr_name].value_counts().nlargest(10).sort_values(ascending=True)\n",
    "    count2=xyz2[ftr_name].value_counts().nlargest(10).sort_values(ascending=True)\n",
    "\n",
    "    names=olist_df[ftr_name].value_counts().nlargest(10).sort_values(ascending=True).keys()\n",
    "\n",
    "    n_groups=10\n",
    "    fig,ax = plt.subplots(figsize=(20,8))\n",
    "    index=np.arange(n_groups)\n",
    "    bar_width=0.3\n",
    "    opacity=0.7\n",
    "\n",
    "    type1=plt.barh(index,count1,bar_width,alpha=opacity,color='b',label='Timely Delivery')\n",
    "    type2=plt.barh(index+bar_width,count2,bar_width,alpha=opacity,color='r',label='Late Delivery')\n",
    "\n",
    "    plt.xlabel(ftr_name)\n",
    "    plt.ylabel('Number of Orders')\n",
    "    plt.title('Comparision of Late Delivery and Not late Delivery based  on '+ftr_name)\n",
    "    plt.legend()\n",
    "    plt.yticks(index+bar_width,names,rotation=0)\n",
    "\n",
    "    plt.tight_layout()\n",
    "    plt.show()\n"
   ]
  },
  {
   "cell_type": "code",
   "execution_count": 55,
   "metadata": {
    "execution": {
     "iopub.execute_input": "2022-04-17T15:53:47.817587Z",
     "iopub.status.busy": "2022-04-17T15:53:47.817290Z",
     "iopub.status.idle": "2022-04-17T15:53:47.834008Z",
     "shell.execute_reply": "2022-04-17T15:53:47.832974Z",
     "shell.execute_reply.started": "2022-04-17T15:53:47.817555Z"
    }
   },
   "outputs": [],
   "source": [
    "order_items_df.shape"
   ]
  },
  {
   "cell_type": "markdown",
   "metadata": {},
   "source": [
    "## DATA VISUALIZATION AND FEATURE ENGINEERING\n",
    "#### Join datasets\n",
    "#### inner join"
   ]
  },
  {
   "cell_type": "code",
   "execution_count": 56,
   "metadata": {
    "execution": {
     "iopub.execute_input": "2022-04-17T15:53:47.836771Z",
     "iopub.status.busy": "2022-04-17T15:53:47.836048Z",
     "iopub.status.idle": "2022-04-17T15:53:48.595523Z",
     "shell.execute_reply": "2022-04-17T15:53:48.594373Z",
     "shell.execute_reply.started": "2022-04-17T15:53:47.836737Z"
    }
   },
   "outputs": [],
   "source": [
    "olist_df = pd.merge(customer_df,                     # Inner join\n",
    "                      order_df,\n",
    "                      on = \"customer_id\",\n",
    "                      how = \"inner\")\n",
    "olist_df = pd.merge(olist_df,                     # Inner join\n",
    "                      order_items_df,\n",
    "                      on = \"order_id\",\n",
    "                      how = \"inner\")\n",
    "\n",
    "olist_df = pd.merge(olist_df,                     # Inner join\n",
    "                      products_df,\n",
    "                      on = \"product_id\",\n",
    "                      how = \"inner\")\n",
    "\n",
    "olist_df = pd.merge(olist_df,                     # Inner join\n",
    "                      sellers_df,\n",
    "                      on = \"seller_id\",\n",
    "                      how = \"inner\")\n",
    "\n",
    "olist_df = pd.merge(olist_df,                     # Inner join\n",
    "                      order_payments_df,\n",
    "                      on = \"order_id\",\n",
    "                      how = \"inner\")\n",
    "\n",
    "# olist_df = pd.merge(left=olist_df,right=geolocation_df, left_on='customer_zip_code_prefix', right_on='geolocation_zip_code_prefix')\n",
    "\n",
    "olist_df.head()"
   ]
  },
  {
   "cell_type": "markdown",
   "metadata": {},
   "source": [
    "#### Check Basic Info"
   ]
  },
  {
   "cell_type": "code",
   "execution_count": 57,
   "metadata": {
    "execution": {
     "iopub.execute_input": "2022-04-17T15:53:48.597169Z",
     "iopub.status.busy": "2022-04-17T15:53:48.596878Z",
     "iopub.status.idle": "2022-04-17T15:53:49.008316Z",
     "shell.execute_reply": "2022-04-17T15:53:49.007536Z",
     "shell.execute_reply.started": "2022-04-17T15:53:48.597135Z"
    }
   },
   "outputs": [],
   "source": [
    "\n",
    "basicInfo(olist_df)\n"
   ]
  },
  {
   "cell_type": "markdown",
   "metadata": {},
   "source": [
    "#### Draw HeatMap"
   ]
  },
  {
   "cell_type": "code",
   "execution_count": 58,
   "metadata": {
    "execution": {
     "iopub.execute_input": "2022-04-17T15:53:49.010119Z",
     "iopub.status.busy": "2022-04-17T15:53:49.009754Z",
     "iopub.status.idle": "2022-04-17T15:53:49.014144Z",
     "shell.execute_reply": "2022-04-17T15:53:49.013328Z",
     "shell.execute_reply.started": "2022-04-17T15:53:49.010088Z"
    }
   },
   "outputs": [],
   "source": [
    "\n",
    "    \n",
    "# heatMap(olist_df)\n",
    "# olist_df.shape"
   ]
  },
  {
   "cell_type": "markdown",
   "metadata": {},
   "source": [
    "#### to See the ratio of the OrderStatus"
   ]
  },
  {
   "cell_type": "code",
   "execution_count": 59,
   "metadata": {
    "execution": {
     "iopub.execute_input": "2022-04-17T15:53:49.015923Z",
     "iopub.status.busy": "2022-04-17T15:53:49.015541Z",
     "iopub.status.idle": "2022-04-17T15:53:49.389740Z",
     "shell.execute_reply": "2022-04-17T15:53:49.388761Z",
     "shell.execute_reply.started": "2022-04-17T15:53:49.015895Z"
    }
   },
   "outputs": [],
   "source": [
    "\n",
    "pieChart(olist_df['order_status'],\"Order Status\")\n",
    "\n",
    "order_df.shape"
   ]
  },
  {
   "cell_type": "markdown",
   "metadata": {},
   "source": [
    "#### Time and date related features explained\n",
    "* order_estimated_delivery_date = Shows the estimated delivery date that was informed to customer at the purchase moment.\n",
    "* order_delivered_customer_date = Shows the actual order delivery date to the customer.\n",
    "* order_delivered_carrier_date = Shows the order posting timestamp. When it was handled to the logistic partner.\n",
    "* shipping_limit_date = Shows the seller shipping limit date for handling the order over to the logistic partner.  ##\n",
    "* order_approved_at = Shows the payment approval timestamp.\n",
    "* order_purchase_timestamp = Shows the purchase timestamp.\n"
   ]
  },
  {
   "cell_type": "code",
   "execution_count": 60,
   "metadata": {
    "execution": {
     "iopub.execute_input": "2022-04-17T15:53:49.391127Z",
     "iopub.status.busy": "2022-04-17T15:53:49.390902Z",
     "iopub.status.idle": "2022-04-17T15:53:49.679859Z",
     "shell.execute_reply": "2022-04-17T15:53:49.678986Z",
     "shell.execute_reply.started": "2022-04-17T15:53:49.391099Z"
    }
   },
   "outputs": [],
   "source": [
    "olist_df = olist_df[olist_df['order_status'] == 'delivered']\n",
    "dropFtr(olist_df,['order_status'])\n",
    "olist_df.head()\n"
   ]
  },
  {
   "cell_type": "markdown",
   "metadata": {},
   "source": [
    "#### Convert order related dates into datetime format from string format"
   ]
  },
  {
   "cell_type": "code",
   "execution_count": 61,
   "metadata": {
    "execution": {
     "iopub.execute_input": "2022-04-17T15:53:49.681362Z",
     "iopub.status.busy": "2022-04-17T15:53:49.681155Z",
     "iopub.status.idle": "2022-04-17T15:53:50.543327Z",
     "shell.execute_reply": "2022-04-17T15:53:50.542249Z",
     "shell.execute_reply.started": "2022-04-17T15:53:49.681336Z"
    }
   },
   "outputs": [],
   "source": [
    "\n",
    "\n",
    "olist_df['order_purchase_timestamp'] = pd.to_datetime(olist_df['order_purchase_timestamp'], format=\"%Y-%m-%d %H:%M:%S\")\n",
    "olist_df['order_approved_at'] = pd.to_datetime(olist_df['order_approved_at'], format=\"%Y-%m-%d %H:%M:%S\")\n",
    "olist_df['order_delivered_carrier_date']  = pd.to_datetime(olist_df['order_delivered_carrier_date'], format=\"%Y-%m-%d %H:%M:%S\")\n",
    "olist_df['order_delivered_customer_date'] = pd.to_datetime(olist_df['order_delivered_customer_date'], format=\"%Y-%m-%d %H:%M:%S\")\n",
    "olist_df['order_estimated_delivery_date'] = pd.to_datetime(olist_df['order_estimated_delivery_date'], format=\"%Y-%m-%d\")\n",
    "olist_df['shipping_limit_date'] = pd.to_datetime(olist_df['shipping_limit_date'], format=\"%Y-%m-%d %H:%M:%S\")\n",
    "\n",
    "# olist_df.dtypes"
   ]
  },
  {
   "cell_type": "markdown",
   "metadata": {},
   "source": [
    "### Findout different time/day intervals between different time related features\n",
    "* **approval_delay** is time difference between the purchase time of the product(**order_purchase_timestamp**) and the time taken to approve the order(**order_approved_at**) from the seller.\n",
    "* **carrier_delay** is the time it was taken to be handled to the logistic partner(**order_delivered_carrier_date**) after its approval by the seller. (**order_approved_at**)\n",
    "* **delivery_delay** is the time difference of the actual delivery time(**order_delivered_customer_date**) - the expected delivery date(**order_estimated_delivery_date**)\n",
    "* **carrier_delay has some negative values those are not possible at all. I am going to filter out the negative values, that means it was handelted to the logistic partner before of its approval by the seller**\n",
    "* **shipping_delay** is the time difference of the actual shipping handled time to the logistic partner(**order_delivered_carrier_date**) and the expected time to handle to the logistic partner(**shipping_limit_date**).\n"
   ]
  },
  {
   "cell_type": "code",
   "execution_count": 62,
   "metadata": {
    "execution": {
     "iopub.execute_input": "2022-04-17T15:53:50.546551Z",
     "iopub.status.busy": "2022-04-17T15:53:50.546216Z",
     "iopub.status.idle": "2022-04-17T15:53:50.769035Z",
     "shell.execute_reply": "2022-04-17T15:53:50.768110Z",
     "shell.execute_reply.started": "2022-04-17T15:53:50.546515Z"
    }
   },
   "outputs": [],
   "source": [
    "# Drop all null rows, as the number of null rows are very low\n",
    "dropNullRows(olist_df)"
   ]
  },
  {
   "cell_type": "code",
   "execution_count": 63,
   "metadata": {
    "execution": {
     "iopub.execute_input": "2022-04-17T15:53:50.770681Z",
     "iopub.status.busy": "2022-04-17T15:53:50.770393Z",
     "iopub.status.idle": "2022-04-17T15:53:50.787290Z",
     "shell.execute_reply": "2022-04-17T15:53:50.786133Z",
     "shell.execute_reply.started": "2022-04-17T15:53:50.770650Z"
    }
   },
   "outputs": [],
   "source": [
    "\n",
    "olist_df['approval_delay'] = (olist_df['order_approved_at'] - olist_df['order_purchase_timestamp']) / np.timedelta64(1,'D')\n",
    "\n",
    "olist_df['delivery_delay'] = (olist_df['order_estimated_delivery_date'] - olist_df['order_delivered_customer_date'])/ np.timedelta64(1,'D')\n",
    "\n",
    "olist_df['shipping_delay'] = (olist_df['shipping_limit_date'] - olist_df['order_delivered_carrier_date'])/ np.timedelta64(1,'D')\n"
   ]
  },
  {
   "cell_type": "code",
   "execution_count": 64,
   "metadata": {
    "execution": {
     "iopub.execute_input": "2022-04-17T15:53:50.789315Z",
     "iopub.status.busy": "2022-04-17T15:53:50.788897Z",
     "iopub.status.idle": "2022-04-17T15:53:50.987328Z",
     "shell.execute_reply": "2022-04-17T15:53:50.986413Z",
     "shell.execute_reply.started": "2022-04-17T15:53:50.789270Z"
    }
   },
   "outputs": [],
   "source": [
    "# Now I am going to draw some boxplots to find out outliers on the approval_delay, delivery_delay,shipping_delay. \n",
    "boxPlot(olist_df['approval_delay'],\"Days\",\"Approval Delay\",-1,35)\n"
   ]
  },
  {
   "cell_type": "markdown",
   "metadata": {},
   "source": [
    "Approval dely is time taken to **approve** the order after **purchasing** it by the customer. It seems that most of the orders around 75% of the orders are aproved by one/two days, while around 25% of the order takes more than two days to be approved. Here are some outliers and those tooks around more than 15 days to be approved. "
   ]
  },
  {
   "cell_type": "code",
   "execution_count": 65,
   "metadata": {
    "execution": {
     "iopub.execute_input": "2022-04-17T15:53:50.989099Z",
     "iopub.status.busy": "2022-04-17T15:53:50.988709Z",
     "iopub.status.idle": "2022-04-17T15:53:51.187890Z",
     "shell.execute_reply": "2022-04-17T15:53:51.186670Z",
     "shell.execute_reply.started": "2022-04-17T15:53:50.989011Z"
    }
   },
   "outputs": [],
   "source": [
    "boxPlot(olist_df['approval_delay'],\"Days\",\"Approval Delay\",-2,15)"
   ]
  },
  {
   "cell_type": "markdown",
   "metadata": {},
   "source": [
    "After zooming the approval delay, it is obvious that most of the orders (around 75%) approved 1-2 days. "
   ]
  },
  {
   "cell_type": "code",
   "execution_count": 66,
   "metadata": {
    "execution": {
     "iopub.execute_input": "2022-04-17T15:53:51.189467Z",
     "iopub.status.busy": "2022-04-17T15:53:51.189229Z",
     "iopub.status.idle": "2022-04-17T15:53:51.376838Z",
     "shell.execute_reply": "2022-04-17T15:53:51.375759Z",
     "shell.execute_reply.started": "2022-04-17T15:53:51.189417Z"
    }
   },
   "outputs": [],
   "source": [
    "boxPlot(olist_df['delivery_delay'],\"Days\",\"Delivery Delay\",-220,170)\n"
   ]
  },
  {
   "cell_type": "markdown",
   "metadata": {},
   "source": [
    "delivery_delay is the time difference between the estimated delivery time and the actual delivery time. Some delivery delays have minus values that means those delivery reach their destination before deadline. Now I am going to zoom a bit to see what is time that most of the dilivery tooks. "
   ]
  },
  {
   "cell_type": "code",
   "execution_count": 67,
   "metadata": {
    "execution": {
     "iopub.execute_input": "2022-04-17T15:53:51.378544Z",
     "iopub.status.busy": "2022-04-17T15:53:51.378243Z",
     "iopub.status.idle": "2022-04-17T15:53:51.570989Z",
     "shell.execute_reply": "2022-04-17T15:53:51.570354Z",
     "shell.execute_reply.started": "2022-04-17T15:53:51.378511Z"
    }
   },
   "outputs": [],
   "source": [
    "boxPlot(olist_df['delivery_delay'],\"Days\",\"Delivery Delay\",-10,35)"
   ]
  },
  {
   "cell_type": "markdown",
   "metadata": {},
   "source": [
    "It seems that around 50% of the delivery takes 5-15 ddays to reach its destinations."
   ]
  },
  {
   "cell_type": "code",
   "execution_count": 68,
   "metadata": {
    "execution": {
     "iopub.execute_input": "2022-04-17T15:53:51.572425Z",
     "iopub.status.busy": "2022-04-17T15:53:51.571965Z",
     "iopub.status.idle": "2022-04-17T15:53:51.751026Z",
     "shell.execute_reply": "2022-04-17T15:53:51.750184Z",
     "shell.execute_reply.started": "2022-04-17T15:53:51.572379Z"
    }
   },
   "outputs": [],
   "source": [
    "boxPlot(olist_df['shipping_delay'],\"Days\",\"Shipping Delay\",-120,180)"
   ]
  },
  {
   "cell_type": "markdown",
   "metadata": {},
   "source": [
    "* **shipping_delay** is the time difference of the actual shipping handled time to the logistic partner(**order_delivered_carrier_date**) and the expected time to handle to the logistic partner(**shipping_limit_date**). After analyzing the boxplot, it is evident that shipping_delay have some very large outliers. Some shipments takes more than 50 days to handle to the logistic partners. Some shipments tooks less than 100 days compared to estimated days to handle to the logistic partners. In my opinion it seems a bit noisy. Now I am going to zoom a bit to see what is the range that most of the shipping_delay takes."
   ]
  },
  {
   "cell_type": "code",
   "execution_count": 69,
   "metadata": {
    "execution": {
     "iopub.execute_input": "2022-04-17T15:53:51.753124Z",
     "iopub.status.busy": "2022-04-17T15:53:51.752313Z",
     "iopub.status.idle": "2022-04-17T15:53:51.922590Z",
     "shell.execute_reply": "2022-04-17T15:53:51.921871Z",
     "shell.execute_reply.started": "2022-04-17T15:53:51.753082Z"
    }
   },
   "outputs": [],
   "source": [
    "boxPlot(olist_df['shipping_delay'],\"Days\",\"Shipping Delay\",-10,15)"
   ]
  },
  {
   "cell_type": "markdown",
   "metadata": {},
   "source": [
    "around 50% of the sellers handle their product to their logistic partners within five days after the confirmation of the orders."
   ]
  },
  {
   "cell_type": "markdown",
   "metadata": {},
   "source": [
    "### Remove outliers based on date_time features"
   ]
  },
  {
   "cell_type": "code",
   "execution_count": 70,
   "metadata": {
    "execution": {
     "iopub.execute_input": "2022-04-17T15:53:51.924215Z",
     "iopub.status.busy": "2022-04-17T15:53:51.923645Z",
     "iopub.status.idle": "2022-04-17T15:53:52.041945Z",
     "shell.execute_reply": "2022-04-17T15:53:52.040952Z",
     "shell.execute_reply.started": "2022-04-17T15:53:51.924180Z"
    }
   },
   "outputs": [],
   "source": [
    "olist_df = olist_df[(olist_df['approval_delay'] < 15)]\n",
    "\n",
    "olist_df = olist_df[(olist_df['delivery_delay'] < 50) & (olist_df['delivery_delay'] > -150)]\n",
    "\n",
    "olist_df = olist_df[(olist_df['shipping_delay'] < 40) & (olist_df['shipping_delay'] > -50)]"
   ]
  },
  {
   "cell_type": "markdown",
   "metadata": {},
   "source": [
    "#### Typically a order date related features contains five parts and those are year, month, day, hour and minute. I am going to deivide them into each five parts for modeling purposes."
   ]
  },
  {
   "cell_type": "code",
   "execution_count": 71,
   "metadata": {
    "execution": {
     "iopub.execute_input": "2022-04-17T15:53:52.043404Z",
     "iopub.status.busy": "2022-04-17T15:53:52.043168Z",
     "iopub.status.idle": "2022-04-17T15:53:52.426820Z",
     "shell.execute_reply": "2022-04-17T15:53:52.425851Z",
     "shell.execute_reply.started": "2022-04-17T15:53:52.043375Z"
    }
   },
   "outputs": [],
   "source": [
    "olist_df['purchase_year'] = olist_df['order_purchase_timestamp'].dt.year\n",
    "olist_df['purchase_month'] = olist_df['order_purchase_timestamp'].dt.month\n",
    "olist_df['purchase_day'] = olist_df['order_purchase_timestamp'].dt.day\n",
    "olist_df['purchase_hour'] = olist_df['order_purchase_timestamp'].dt.hour\n",
    "olist_df['purchase_minute'] = olist_df['order_purchase_timestamp'].dt.minute\n",
    "\n",
    "olist_df['approved_year'] = olist_df['order_approved_at'].dt.year\n",
    "olist_df['approved_month'] = olist_df['order_approved_at'].dt.month\n",
    "olist_df['approved_day'] = olist_df['order_approved_at'].dt.day\n",
    "olist_df['approved_hour'] = olist_df['order_approved_at'].dt.hour\n",
    "olist_df['approved_minute'] = olist_df['order_approved_at'].dt.minute\n",
    "\n",
    "olist_df['delivered_carrier_year'] = olist_df['order_delivered_carrier_date'].dt.year\n",
    "olist_df['delivered_carrier_month'] = olist_df['order_delivered_carrier_date'].dt.month\n",
    "olist_df['delivered_carrier_day'] = olist_df['order_delivered_carrier_date'].dt.day\n",
    "olist_df['delivered_carrier_hour'] = olist_df['order_delivered_carrier_date'].dt.hour\n",
    "olist_df['delivered_carrier_minute'] = olist_df['order_delivered_carrier_date'].dt.minute\n",
    "\n",
    "olist_df['delivered_customer_year'] = olist_df['order_delivered_customer_date'].dt.year\n",
    "olist_df['delivered_customer_month'] = olist_df['order_delivered_customer_date'].dt.month\n",
    "olist_df['delivered_customer_day'] = olist_df['order_delivered_customer_date'].dt.day\n",
    "olist_df['delivered_customer_hour'] = olist_df['order_delivered_customer_date'].dt.hour\n",
    "olist_df['delivered_customer_minute'] = olist_df['order_delivered_customer_date'].dt.minute\n",
    "\n",
    "olist_df['estimated_delivery_year'] = olist_df['order_estimated_delivery_date'].dt.year\n",
    "olist_df['estimated_delivery_month'] = olist_df['order_estimated_delivery_date'].dt.month\n",
    "\n",
    "\n",
    "olist_df['shipping_limit_year'] = olist_df['shipping_limit_date'].dt.year\n",
    "olist_df['shipping_limit_month'] = olist_df['shipping_limit_date'].dt.month\n",
    "olist_df['shipping_limit_day'] = olist_df['shipping_limit_date'].dt.day\n",
    "olist_df['shipping_limit_hour'] = olist_df['shipping_limit_date'].dt.hour\n",
    "olist_df['shipping_limit_minute'] = olist_df['shipping_limit_date'].dt.minute"
   ]
  },
  {
   "cell_type": "markdown",
   "metadata": {},
   "source": [
    "#### Now I am going to drop date_time features from olist_df\n",
    "['order_purchase_timestamp','order_approved_at','order_delivered_carrier_date','order_delivered_customer_date','order_estimated_delivery_date','shipping_limit_date']"
   ]
  },
  {
   "cell_type": "code",
   "execution_count": 72,
   "metadata": {
    "execution": {
     "iopub.execute_input": "2022-04-17T15:53:52.428271Z",
     "iopub.status.busy": "2022-04-17T15:53:52.428011Z",
     "iopub.status.idle": "2022-04-17T15:53:52.501477Z",
     "shell.execute_reply": "2022-04-17T15:53:52.500483Z",
     "shell.execute_reply.started": "2022-04-17T15:53:52.428232Z"
    }
   },
   "outputs": [],
   "source": [
    "ftr_need_to_drop = ['order_purchase_timestamp','order_approved_at','order_delivered_carrier_date','order_delivered_customer_date',\n",
    "                    'order_estimated_delivery_date','shipping_limit_date']\n",
    "dropFtr(olist_df,ftr_need_to_drop)"
   ]
  },
  {
   "cell_type": "markdown",
   "metadata": {},
   "source": [
    "### Key Feature[late_delivery]\n",
    "#### Here, late_delivery is my target feature. If it contains 1 then the late delivery status of the corresponding order is true, otherwise false"
   ]
  },
  {
   "cell_type": "code",
   "execution_count": 73,
   "metadata": {
    "execution": {
     "iopub.execute_input": "2022-04-17T15:53:52.502943Z",
     "iopub.status.busy": "2022-04-17T15:53:52.502689Z",
     "iopub.status.idle": "2022-04-17T15:53:52.741389Z",
     "shell.execute_reply": "2022-04-17T15:53:52.740321Z",
     "shell.execute_reply.started": "2022-04-17T15:53:52.502912Z"
    }
   },
   "outputs": [],
   "source": [
    "olist_df['late_delivery'] =   np.where(olist_df['delivery_delay'] < 0,1,0)\n",
    "\n",
    "pieChart(olist_df['late_delivery'],\"late_delivery\")\n",
    "# olist_df.head(5)"
   ]
  },
  {
   "cell_type": "code",
   "execution_count": 74,
   "metadata": {
    "execution": {
     "iopub.execute_input": "2022-04-17T15:53:52.743918Z",
     "iopub.status.busy": "2022-04-17T15:53:52.743230Z",
     "iopub.status.idle": "2022-04-17T15:53:52.976668Z",
     "shell.execute_reply": "2022-04-17T15:53:52.975473Z",
     "shell.execute_reply.started": "2022-04-17T15:53:52.743865Z"
    }
   },
   "outputs": [],
   "source": [
    "olist_df['late_shipping_delivery'] =   np.where(olist_df['shipping_delay'] < 0,1,0)\n",
    "\n",
    "pieChart(olist_df['late_shipping_delivery'],\"Late Shipping Delivery\")"
   ]
  },
  {
   "cell_type": "code",
   "execution_count": 75,
   "metadata": {
    "execution": {
     "iopub.execute_input": "2022-04-17T15:53:52.979035Z",
     "iopub.status.busy": "2022-04-17T15:53:52.978417Z",
     "iopub.status.idle": "2022-04-17T15:53:53.253211Z",
     "shell.execute_reply": "2022-04-17T15:53:53.252339Z",
     "shell.execute_reply.started": "2022-04-17T15:53:52.978985Z"
    }
   },
   "outputs": [],
   "source": [
    "pieChart(olist_df[(olist_df['late_shipping_delivery']==1)]['late_delivery'],\"Late Shipping Delivery > Late Delivery\")"
   ]
  },
  {
   "cell_type": "code",
   "execution_count": 76,
   "metadata": {
    "execution": {
     "iopub.execute_input": "2022-04-17T15:53:53.254642Z",
     "iopub.status.busy": "2022-04-17T15:53:53.254272Z",
     "iopub.status.idle": "2022-04-17T15:53:53.516583Z",
     "shell.execute_reply": "2022-04-17T15:53:53.515518Z",
     "shell.execute_reply.started": "2022-04-17T15:53:53.254604Z"
    }
   },
   "outputs": [],
   "source": [
    "pieChart(olist_df[(olist_df['late_shipping_delivery']==0)]['late_delivery'],\"Timely Shipping Delivery > Late Delivery\")"
   ]
  },
  {
   "cell_type": "markdown",
   "metadata": {},
   "source": [
    "#### Check for null values in olist_df"
   ]
  },
  {
   "cell_type": "code",
   "execution_count": 77,
   "metadata": {
    "execution": {
     "iopub.execute_input": "2022-04-17T15:53:53.518901Z",
     "iopub.status.busy": "2022-04-17T15:53:53.518347Z",
     "iopub.status.idle": "2022-04-17T15:53:54.093830Z",
     "shell.execute_reply": "2022-04-17T15:53:54.092795Z",
     "shell.execute_reply.started": "2022-04-17T15:53:53.518851Z"
    }
   },
   "outputs": [],
   "source": [
    "null_val = chkNull(olist_df)\n",
    "print(null_val)\n",
    "\n",
    "\n",
    "dropNullRows(olist_df)\n",
    "    \n",
    "null_val = chkNull(olist_df)\n",
    "print(null_val)\n"
   ]
  },
  {
   "cell_type": "markdown",
   "metadata": {},
   "source": [
    "### Categorical Feature Analysis"
   ]
  },
  {
   "cell_type": "code",
   "execution_count": 78,
   "metadata": {
    "execution": {
     "iopub.execute_input": "2022-04-17T15:53:54.095816Z",
     "iopub.status.busy": "2022-04-17T15:53:54.095164Z",
     "iopub.status.idle": "2022-04-17T15:53:54.663632Z",
     "shell.execute_reply": "2022-04-17T15:53:54.662546Z",
     "shell.execute_reply.started": "2022-04-17T15:53:54.095777Z"
    }
   },
   "outputs": [],
   "source": [
    "ctg_ftr = ['customer_state','seller_id','seller_state', 'product_category_name','customer_city', 'payment_type', 'seller_city']\n",
    "                                                                \n",
    "pieChart(olist_df[(olist_df['late_delivery'] == 1)]['payment_type'],\"payment type on late delivery\")\n",
    "pieChart(olist_df[(olist_df['late_delivery'] ==0)]['payment_type'],\"payment type on timely delivery\")"
   ]
  },
  {
   "cell_type": "markdown",
   "metadata": {},
   "source": [
    "#### use of voucher and credit_cart is slightly higher on timely_delivery while the use of boleto and debit_card is higher on late delivery"
   ]
  },
  {
   "cell_type": "code",
   "execution_count": 79,
   "metadata": {
    "execution": {
     "iopub.execute_input": "2022-04-17T15:53:54.665384Z",
     "iopub.status.busy": "2022-04-17T15:53:54.665060Z",
     "iopub.status.idle": "2022-04-17T15:53:55.661633Z",
     "shell.execute_reply": "2022-04-17T15:53:55.660685Z",
     "shell.execute_reply.started": "2022-04-17T15:53:54.665342Z"
    }
   },
   "outputs": [],
   "source": [
    "payment_sequential  = olist_df.pivot_table(\n",
    "    values=['late_delivery'],index=['payment_sequential'],aggfunc={'late_delivery':np.sum}\n",
    ")\n",
    "\n",
    "payment_installments  = olist_df.pivot_table(\n",
    "    values=['late_delivery'],index=['payment_installments'],aggfunc={'late_delivery':np.sum}\n",
    ")\n",
    "\n",
    "\n",
    "# payment_installments = olist_df['payment_installments'].unique()\n",
    "\n",
    "payment_sequential.plot(kind=\"bar\")\n",
    "payment_installments.plot(kind=\"bar\")"
   ]
  },
  {
   "cell_type": "code",
   "execution_count": 80,
   "metadata": {
    "execution": {
     "iopub.execute_input": "2022-04-17T15:53:55.667197Z",
     "iopub.status.busy": "2022-04-17T15:53:55.666908Z",
     "iopub.status.idle": "2022-04-17T15:53:58.301669Z",
     "shell.execute_reply": "2022-04-17T15:53:58.300657Z",
     "shell.execute_reply.started": "2022-04-17T15:53:55.667165Z"
    }
   },
   "outputs": [],
   "source": [
    "ctg_ftr = [ 'product_category_name','customer_state','seller_city','seller_id','seller_state','customer_city']\n",
    "\n",
    "for ftr in ctg_ftr:\n",
    "    cmpBarChart(ftr)\n",
    "\n"
   ]
  },
  {
   "cell_type": "markdown",
   "metadata": {},
   "source": [
    "### Date Time Analysis"
   ]
  },
  {
   "cell_type": "code",
   "execution_count": 81,
   "metadata": {
    "execution": {
     "iopub.execute_input": "2022-04-17T15:53:58.303076Z",
     "iopub.status.busy": "2022-04-17T15:53:58.302850Z",
     "iopub.status.idle": "2022-04-17T15:53:58.530796Z",
     "shell.execute_reply": "2022-04-17T15:53:58.529863Z",
     "shell.execute_reply.started": "2022-04-17T15:53:58.303049Z"
    }
   },
   "outputs": [],
   "source": [
    "pivot_table = olist_df.pivot_table(\n",
    "    values=['late_delivery'],index=['purchase_year'],aggfunc={'late_delivery':np.sum}\n",
    ")\n",
    "print(pivot_table)\n",
    "pivot_table.plot(kind=\"bar\")"
   ]
  },
  {
   "cell_type": "code",
   "execution_count": 82,
   "metadata": {
    "execution": {
     "iopub.execute_input": "2022-04-17T15:53:58.532160Z",
     "iopub.status.busy": "2022-04-17T15:53:58.531934Z",
     "iopub.status.idle": "2022-04-17T15:53:58.847851Z",
     "shell.execute_reply": "2022-04-17T15:53:58.846809Z",
     "shell.execute_reply.started": "2022-04-17T15:53:58.532132Z"
    }
   },
   "outputs": [],
   "source": [
    "pivot_table = olist_df[(olist_df['purchase_year']==2017)].pivot_table(\n",
    "    values=['late_delivery'],index=['purchase_month'],aggfunc={'late_delivery':np.sum}\n",
    ")\n",
    "print(pivot_table)\n",
    "pivot_table.plot(kind=\"bar\")"
   ]
  },
  {
   "cell_type": "code",
   "execution_count": 83,
   "metadata": {
    "execution": {
     "iopub.execute_input": "2022-04-17T15:53:58.849410Z",
     "iopub.status.busy": "2022-04-17T15:53:58.849165Z",
     "iopub.status.idle": "2022-04-17T15:53:59.139060Z",
     "shell.execute_reply": "2022-04-17T15:53:59.138197Z",
     "shell.execute_reply.started": "2022-04-17T15:53:58.849380Z"
    }
   },
   "outputs": [],
   "source": [
    "pivot_table = olist_df[(olist_df['purchase_year']==2018)].pivot_table(\n",
    "    values=['late_delivery'],index=['purchase_month'],aggfunc={'late_delivery':np.sum}\n",
    ")\n",
    "print(pivot_table)\n",
    "pivot_table.plot(kind=\"bar\")"
   ]
  },
  {
   "cell_type": "markdown",
   "metadata": {},
   "source": [
    "### Prepare important features for modeling purposes."
   ]
  },
  {
   "cell_type": "code",
   "execution_count": 84,
   "metadata": {
    "execution": {
     "iopub.execute_input": "2022-04-17T15:53:59.140710Z",
     "iopub.status.busy": "2022-04-17T15:53:59.140382Z",
     "iopub.status.idle": "2022-04-17T15:53:59.269123Z",
     "shell.execute_reply": "2022-04-17T15:53:59.268227Z",
     "shell.execute_reply.started": "2022-04-17T15:53:59.140670Z"
    }
   },
   "outputs": [],
   "source": [
    "\n",
    "model_df = olist_df[[\n",
    "'seller_id',\n",
    "'approval_delay',\n",
    "'shipping_delay',                 \n",
    "'customer_zip_code_prefix',\n",
    " 'customer_city',\n",
    " 'customer_state', \n",
    " 'freight_value',\n",
    "'seller_zip_code_prefix',\n",
    " 'seller_city',\n",
    " 'seller_state',\n",
    " 'payment_sequential',\n",
    " 'payment_type',\n",
    " 'payment_installments']].copy()\n",
    "\n",
    "chkNull(model_df)\n",
    "Y = olist_df['late_delivery'].copy()\n",
    "Counter(Y)"
   ]
  },
  {
   "cell_type": "markdown",
   "metadata": {},
   "source": [
    "### Check correlated features in model_df"
   ]
  },
  {
   "cell_type": "code",
   "execution_count": 85,
   "metadata": {
    "execution": {
     "iopub.execute_input": "2022-04-17T15:53:59.270327Z",
     "iopub.status.busy": "2022-04-17T15:53:59.270124Z",
     "iopub.status.idle": "2022-04-17T15:53:59.828271Z",
     "shell.execute_reply": "2022-04-17T15:53:59.827389Z",
     "shell.execute_reply.started": "2022-04-17T15:53:59.270302Z"
    }
   },
   "outputs": [],
   "source": [
    "# I have drawn a heatmap to check highly correlated features in the model_df\n",
    "heatMap(model_df)"
   ]
  },
  {
   "cell_type": "markdown",
   "metadata": {},
   "source": [
    "### Heatmap Analysis\n",
    "From analyzing the data above it is obvious that many of the features are highly correlated. Now I am going to plot the pair of highly correlated columns those threshold values are above certain level"
   ]
  },
  {
   "cell_type": "code",
   "execution_count": 86,
   "metadata": {
    "execution": {
     "iopub.execute_input": "2022-04-17T15:53:59.829818Z",
     "iopub.status.busy": "2022-04-17T15:53:59.829592Z",
     "iopub.status.idle": "2022-04-17T15:53:59.863311Z",
     "shell.execute_reply": "2022-04-17T15:53:59.862464Z",
     "shell.execute_reply.started": "2022-04-17T15:53:59.829791Z"
    }
   },
   "outputs": [],
   "source": [
    "# check the highly correlated features, those correlated are above .7\n",
    "corr_matrix = corrFtr(model_df,.60)\n",
    "\n",
    "corr_ftr = []\n",
    "for i in range(len(corr_matrix.index)):\n",
    "    if corr_matrix.index[i][1] not in corr_ftr:\n",
    "        corr_ftr.append(corr_matrix.index[i][1])\n"
   ]
  },
  {
   "cell_type": "code",
   "execution_count": 87,
   "metadata": {
    "execution": {
     "iopub.execute_input": "2022-04-17T15:53:59.865124Z",
     "iopub.status.busy": "2022-04-17T15:53:59.864638Z",
     "iopub.status.idle": "2022-04-17T15:53:59.879009Z",
     "shell.execute_reply": "2022-04-17T15:53:59.878124Z",
     "shell.execute_reply.started": "2022-04-17T15:53:59.865090Z"
    }
   },
   "outputs": [],
   "source": [
    "# Remove the highly correlated features from model_df,\n",
    "\n",
    "\n",
    "model_df.drop(corr_ftr,axis=1,inplace=True)\n",
    "# Check the shape of the x,y features \n",
    "model_df_shape = model_df.shape\n",
    "y_len = len(Y)\n",
    "\n",
    "print(model_df_shape,y_len)"
   ]
  },
  {
   "cell_type": "markdown",
   "metadata": {},
   "source": [
    "### LeaveOneOutEncoder && Undersampling"
   ]
  },
  {
   "cell_type": "code",
   "execution_count": 88,
   "metadata": {
    "execution": {
     "iopub.execute_input": "2022-04-17T15:53:59.881428Z",
     "iopub.status.busy": "2022-04-17T15:53:59.880829Z",
     "iopub.status.idle": "2022-04-17T15:54:00.975478Z",
     "shell.execute_reply": "2022-04-17T15:54:00.974407Z",
     "shell.execute_reply.started": "2022-04-17T15:53:59.881380Z"
    }
   },
   "outputs": [],
   "source": [
    "model_df_ctg_ftr = getCtgCols(model_df)\n",
    "\n",
    "encoder_ = LeaveOneOutEncoder(model_df_ctg_ftr)\n",
    "model_df = encoder_.fit_transform(model_df,Y)"
   ]
  },
  {
   "cell_type": "markdown",
   "metadata": {},
   "source": [
    "### Undersampling"
   ]
  },
  {
   "cell_type": "code",
   "execution_count": 89,
   "metadata": {
    "execution": {
     "iopub.execute_input": "2022-04-17T15:54:00.976872Z",
     "iopub.status.busy": "2022-04-17T15:54:00.976637Z",
     "iopub.status.idle": "2022-04-17T15:54:01.703185Z",
     "shell.execute_reply": "2022-04-17T15:54:01.702302Z",
     "shell.execute_reply.started": "2022-04-17T15:54:00.976844Z"
    }
   },
   "outputs": [],
   "source": [
    "# Undersample imbalanced dataset with NearMiss-1\n",
    "undersample = NearMiss(version=1)\n",
    "X,y = undersample.fit_resample(model_df,Y)"
   ]
  },
  {
   "cell_type": "code",
   "execution_count": 90,
   "metadata": {
    "execution": {
     "iopub.execute_input": "2022-04-17T15:54:01.705245Z",
     "iopub.status.busy": "2022-04-17T15:54:01.704819Z",
     "iopub.status.idle": "2022-04-17T15:54:01.714925Z",
     "shell.execute_reply": "2022-04-17T15:54:01.714336Z",
     "shell.execute_reply.started": "2022-04-17T15:54:01.705217Z"
    }
   },
   "outputs": [],
   "source": [
    "model_df_shape = X.shape\n",
    "y_len = len(y)\n",
    "\n",
    "print(model_df_shape,y_len)\n",
    "Counter(y)"
   ]
  },
  {
   "cell_type": "markdown",
   "metadata": {},
   "source": [
    "## Modeling\n",
    "### Split The Dataset for Training && Testing Purpose."
   ]
  },
  {
   "cell_type": "code",
   "execution_count": 91,
   "metadata": {
    "execution": {
     "iopub.execute_input": "2022-04-17T15:54:01.716657Z",
     "iopub.status.busy": "2022-04-17T15:54:01.715892Z",
     "iopub.status.idle": "2022-04-17T15:54:01.737933Z",
     "shell.execute_reply": "2022-04-17T15:54:01.736925Z",
     "shell.execute_reply.started": "2022-04-17T15:54:01.716609Z"
    }
   },
   "outputs": [],
   "source": [
    "x_train, x_test, y_train, y_test = train_test_split(X,y,test_size=.3,random_state=0)"
   ]
  },
  {
   "cell_type": "markdown",
   "metadata": {},
   "source": [
    "### CART Classification "
   ]
  },
  {
   "cell_type": "code",
   "execution_count": 92,
   "metadata": {
    "execution": {
     "iopub.execute_input": "2022-04-17T15:54:01.740334Z",
     "iopub.status.busy": "2022-04-17T15:54:01.739692Z",
     "iopub.status.idle": "2022-04-17T15:54:01.779365Z",
     "shell.execute_reply": "2022-04-17T15:54:01.778522Z",
     "shell.execute_reply.started": "2022-04-17T15:54:01.740286Z"
    }
   },
   "outputs": [],
   "source": [
    "\n",
    "\n",
    "model_crt = DecisionTreeClassifier(random_state=0)\n",
    "\n",
    "model_crt.fit(x_train,y_train)\n",
    "y_pred_crt = model_crt.predict(x_test)\n",
    "score = r2_score(y_test,y_pred)\n",
    "print(score)"
   ]
  },
  {
   "cell_type": "markdown",
   "metadata": {},
   "source": [
    "### Random Forest Classifier"
   ]
  },
  {
   "cell_type": "code",
   "execution_count": 93,
   "metadata": {
    "execution": {
     "iopub.execute_input": "2022-04-17T15:54:01.782027Z",
     "iopub.status.busy": "2022-04-17T15:54:01.781352Z",
     "iopub.status.idle": "2022-04-17T15:54:02.936912Z",
     "shell.execute_reply": "2022-04-17T15:54:02.936141Z",
     "shell.execute_reply.started": "2022-04-17T15:54:01.781981Z"
    }
   },
   "outputs": [],
   "source": [
    "model_rfc = RandomForestClassifier(random_state=0)\n",
    "\n",
    "model_rfc.fit(x_train,y_train)\n",
    "y_pred_rfc = model_rfc.predict(x_test)\n",
    "score = r2_score(y_test,y_pred)\n",
    "print(score)"
   ]
  },
  {
   "cell_type": "code",
   "execution_count": 94,
   "metadata": {
    "execution": {
     "iopub.execute_input": "2022-04-17T15:54:02.938237Z",
     "iopub.status.busy": "2022-04-17T15:54:02.938021Z",
     "iopub.status.idle": "2022-04-17T15:54:03.478933Z",
     "shell.execute_reply": "2022-04-17T15:54:03.477875Z",
     "shell.execute_reply.started": "2022-04-17T15:54:02.938210Z"
    }
   },
   "outputs": [],
   "source": [
    "ftr_to_use = [\n",
    "'seller_id',\n",
    "'approval_delay',\n",
    "'shipping_delay',           \n",
    "'customer_zip_code_prefix',\n",
    " 'customer_city',\n",
    " 'customer_state', \n",
    " 'freight_value',\n",
    "'seller_zip_code_prefix',\n",
    " 'seller_city',\n",
    " 'seller_state',\n",
    " 'payment_sequential',\n",
    " 'payment_type',\n",
    " 'payment_installments'\n",
    "]\n",
    "\n",
    "ftr_to_use = list(set(ftr_to_use) - set(corr_ftr))\n",
    "\n",
    "chkFeatureImportance(model_crt,ftr_to_use,\"Feature Importance Score — CRT\")\n",
    "chkFeatureImportance(model_rfc,ftr_to_use,\"Feature Importance Score — Random Forest\")\n"
   ]
  },
  {
   "cell_type": "markdown",
   "metadata": {},
   "source": [
    "## Model Evaluation"
   ]
  },
  {
   "cell_type": "code",
   "execution_count": 95,
   "metadata": {
    "execution": {
     "iopub.execute_input": "2022-04-17T15:54:03.480692Z",
     "iopub.status.busy": "2022-04-17T15:54:03.480263Z",
     "iopub.status.idle": "2022-04-17T15:54:03.846972Z",
     "shell.execute_reply": "2022-04-17T15:54:03.846101Z",
     "shell.execute_reply.started": "2022-04-17T15:54:03.480654Z"
    }
   },
   "outputs": [],
   "source": [
    "modelEva(y_test,y_pred_crt)\n",
    "getConfusionMatrix(y_test,y_pred_crt)\n",
    "getConfusionMatrix(y_test,y_pred_rfc)"
   ]
  }
 ],
 "metadata": {
  "kernelspec": {
   "display_name": "Python 3 (ipykernel)",
   "language": "python",
   "name": "python3"
  },
  "language_info": {
   "codemirror_mode": {
    "name": "ipython",
    "version": 3
   },
   "file_extension": ".py",
   "mimetype": "text/x-python",
   "name": "python",
   "nbconvert_exporter": "python",
   "pygments_lexer": "ipython3",
   "version": "3.9.7"
  }
 },
 "nbformat": 4,
 "nbformat_minor": 4
}
